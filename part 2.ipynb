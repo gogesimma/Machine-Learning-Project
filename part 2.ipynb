{
  "nbformat": 4,
  "nbformat_minor": 0,
  "metadata": {
    "colab": {
      "provenance": []
    },
    "kernelspec": {
      "name": "python3",
      "display_name": "Python 3"
    },
    "language_info": {
      "name": "python"
    }
  },
  "cells": [
    {
      "cell_type": "code",
      "execution_count": null,
      "metadata": {
        "id": "ga_zAjWgF5hv"
      },
      "outputs": [],
      "source": [
        "import pandas as pd\n",
        "import numpy as np\n",
        "from sklearn.model_selection import train_test_split\n",
        "from sklearn.preprocessing import StandardScaler\n",
        "from sklearn.svm import SVC\n",
        "from sklearn.metrics import accuracy_score, classification_report\n",
        "import csv"
      ]
    },
    {
      "cell_type": "code",
      "source": [
        "# Load and preprocess the team statistics data\n",
        "team_season_data = []\n",
        "\n",
        "with open('/content/drive/MyDrive/databasebasketball(1)/team_season.txt', 'r') as file:\n",
        "    csv_reader = csv.DictReader(file)\n",
        "    for row in csv_reader:\n",
        "        team_season_data.append(row)\n",
        "\n",
        "data = pd.DataFrame(team_season_data)"
      ],
      "metadata": {
        "id": "tAoi1t2HJBr-"
      },
      "execution_count": null,
      "outputs": []
    },
    {
      "cell_type": "code",
      "source": [
        "# Define columns to keep for feature selection\n",
        "columns_to_keep = ['o_fgm', 'o_fga', 'o_ftm', 'o_fta', 'o_oreb', 'o_dreb', 'o_reb', 'o_asts', 'o_pf', 'o_stl', 'o_to', 'o_blk', 'o_3pm', 'o_3pa', 'o_pts',\n",
        "                   'd_fgm', 'd_fga', 'd_ftm', 'd_fta', 'd_oreb', 'd_dreb', 'd_reb', 'd_asts', 'd_pf', 'd_stl', 'd_to', 'd_blk', 'd_3pm', 'd_3pa', 'd_pts', 'pace']\n",
        "\n",
        "# Extract features (X) and labels (Y)\n",
        "X = data[columns_to_keep]\n",
        "Y = data[['won', 'lost']]  # Keep both 'won' and 'lost' columns for comparison\n",
        "\n",
        "# Create a new target variable indicating which team won (1 if team1 won, 0 if team2 won)\n",
        "Y['team1_won'] = np.where(Y['won'] > Y['lost'], 1, 0)\n",
        "\n",
        "# Define features (X) and labels (Y)\n",
        "X = X.drop(['pace'], axis=1)  # Remove 'pace' as it is not used in your features\n",
        "Y = Y['team1_won']\n",
        "\n",
        "# Split the data into training and testing sets\n",
        "X_train, X_test, Y_train, Y_test = train_test_split(X, Y, test_size=0.2, random_state=42)"
      ],
      "metadata": {
        "colab": {
          "base_uri": "https://localhost:8080/"
        },
        "id": "EkNIloFWJU91",
        "outputId": "bcda4cb6-7f54-4143-a62c-c7e2e25649a8"
      },
      "execution_count": null,
      "outputs": [
        {
          "output_type": "stream",
          "name": "stderr",
          "text": [
            "<ipython-input-13-7b74c43b42fb>:10: SettingWithCopyWarning: \n",
            "A value is trying to be set on a copy of a slice from a DataFrame.\n",
            "Try using .loc[row_indexer,col_indexer] = value instead\n",
            "\n",
            "See the caveats in the documentation: https://pandas.pydata.org/pandas-docs/stable/user_guide/indexing.html#returning-a-view-versus-a-copy\n",
            "  Y['team1_won'] = np.where(Y['won'] > Y['lost'], 1, 0)\n"
          ]
        }
      ]
    },
    {
      "cell_type": "code",
      "source": [
        "# Standardize the features\n",
        "scaler = StandardScaler()\n",
        "X_train = scaler.fit_transform(X_train)\n",
        "X_test = scaler.transform(X_test)\n",
        "\n",
        "# Initialize and train the SVM model\n",
        "model = SVC(probability=True, kernel='linear', random_state=42)\n",
        "model.fit(X_train, Y_train)\n",
        "\n",
        "# Evaluate the model on the test set\n",
        "Y_pred = model.predict(X_test)\n",
        "print(\"Accuracy:\", accuracy_score(Y_test, Y_pred))\n",
        "print(\"Classification Report:\\n\", classification_report(Y_test, Y_pred))\n"
      ],
      "metadata": {
        "colab": {
          "base_uri": "https://localhost:8080/"
        },
        "id": "THniAT-7Jc6D",
        "outputId": "dd84029d-504e-4af4-e2a4-c738876af3fe"
      },
      "execution_count": null,
      "outputs": [
        {
          "output_type": "stream",
          "name": "stdout",
          "text": [
            "Accuracy: 0.9117647058823529\n",
            "Classification Report:\n",
            "               precision    recall  f1-score   support\n",
            "\n",
            "           0       0.92      0.90      0.91       120\n",
            "           1       0.90      0.92      0.91       118\n",
            "\n",
            "    accuracy                           0.91       238\n",
            "   macro avg       0.91      0.91      0.91       238\n",
            "weighted avg       0.91      0.91      0.91       238\n",
            "\n"
          ]
        }
      ]
    },
    {
      "cell_type": "code",
      "source": [
        "# Define a function to prepare team features for prediction\n",
        "def prepare_features_for_team(team_name, data):\n",
        "    # Filter the DataFrame for the specified team\n",
        "    team_data = data[data['team'] == team_name]\n",
        "    # Extract relevant features\n",
        "    features = team_data[['o_fgm', 'o_fga', 'o_ftm', 'o_fta', 'o_oreb', 'o_dreb', 'o_reb', 'o_asts', 'o_pf', 'o_stl', 'o_to', 'o_blk', 'o_3pm', 'o_3pa', 'o_pts',\n",
        "                          'd_fgm', 'd_fga', 'd_ftm', 'd_fta', 'd_oreb', 'd_dreb', 'd_reb', 'd_asts', 'd_pf', 'd_stl', 'd_to', 'd_blk', 'd_3pm', 'd_3pa', 'd_pts', 'pace']]\n",
        "    features = features.drop(['pace'], axis=1)\n",
        "    features = scaler.transform(features)\n",
        "    return features\n"
      ],
      "metadata": {
        "id": "2mD1tNAwKVfo"
      },
      "execution_count": null,
      "outputs": []
    },
    {
      "cell_type": "code",
      "source": [
        "# Get team names and prepare features for prediction\n",
        "team1_name = input(\"Enter the name of Team 1: \")\n",
        "team2_name = input(\"Enter the name of Team 2: \")\n",
        "\n",
        "team1_features = prepare_features_for_team(team1_name, data)\n",
        "team2_features = prepare_features_for_team(team2_name, data)\n",
        "\n",
        "# Predict win probabilities for each team\n",
        "team1_win_probability = model.predict_proba(team1_features)[:, 1].mean()  # Probability that team1 wins\n",
        "team2_win_probability = model.predict_proba(team2_features)[:, 1].mean()  # Probability that team2 wins\n",
        "\n",
        "# Compare the win probabilities\n",
        "if team1_win_probability > team2_win_probability:\n",
        "    print(f\"{team1_name} is more likely to win with a probability of {team1_win_probability:.2f}\")\n",
        "else:\n",
        "    print(f\"{team2_name} is more likely to win with a probability of {team2_win_probability:.2f}\")"
      ],
      "metadata": {
        "colab": {
          "base_uri": "https://localhost:8080/"
        },
        "id": "RBY9Gxx1KaQJ",
        "outputId": "f8cd1745-743c-450b-d106-9e2b4b6a296f"
      },
      "execution_count": null,
      "outputs": [
        {
          "output_type": "stream",
          "name": "stdout",
          "text": [
            "Enter the name of Team 1: PRO\n",
            "Enter the name of Team 2: INJ\n",
            "PRO is more likely to win with a probability of 0.12\n"
          ]
        }
      ]
    }
  ]
}